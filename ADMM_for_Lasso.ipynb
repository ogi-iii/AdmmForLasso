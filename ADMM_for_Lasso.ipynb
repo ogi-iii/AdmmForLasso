{
 "cells": [
  {
   "cell_type": "code",
   "execution_count": 1,
   "metadata": {},
   "outputs": [],
   "source": [
    "# import libraries\n",
    "import numpy as np\n",
    "import pandas as pd\n",
    "from sklearn.datasets import load_boston\n",
    "from sklearn.base import BaseEstimator, RegressorMixin"
   ]
  },
  {
   "cell_type": "code",
   "execution_count": 2,
   "metadata": {},
   "outputs": [
    {
     "name": "stdout",
     "output_type": "stream",
     "text": [
      "(506, 13)\n"
     ]
    }
   ],
   "source": [
    "# data loading\n",
    "boston=load_boston()\n",
    "print(boston.data.shape)"
   ]
  },
  {
   "cell_type": "code",
   "execution_count": 3,
   "metadata": {},
   "outputs": [
    {
     "name": "stdout",
     "output_type": "stream",
     "text": [
      "['CRIM' 'ZN' 'INDUS' 'CHAS' 'NOX' 'RM' 'AGE' 'DIS' 'RAD' 'TAX' 'PTRATIO'\n",
      " 'B' 'LSTAT']\n"
     ]
    }
   ],
   "source": [
    "# checking features\n",
    "print(boston.feature_names)"
   ]
  },
  {
   "cell_type": "code",
   "execution_count": 4,
   "metadata": {},
   "outputs": [],
   "source": [
    "# setting X and y\n",
    "mean=np.mean(boston.data, axis=0)\n",
    "std=np.std(boston.data, axis=0)\n",
    "boston_X=(boston.data - mean)/std\n",
    "boston_y=boston.target"
   ]
  },
  {
   "cell_type": "code",
   "execution_count": 5,
   "metadata": {},
   "outputs": [],
   "source": [
    "# making algorism\n",
    "class admm_for_lasso(BaseEstimator, RegressorMixin):\n",
    "    \n",
    "    # initial setting\n",
    "    def __init__(self, lambda_=1.0, rho=1.0, max_repeat=1000, fit_intercept=True):\n",
    "        self.lambda_=lambda_ # regularized coefficient\n",
    "        self.rho=rho # penalty coefficient\n",
    "        self.max_repeat=max_repeat # the number of repeats\n",
    "        self.fit_intercept=fit_intercept # presence of the intercept\n",
    "        self.coef_=None # variable for coefficients\n",
    "        self.intercept_=0.0 # variable for intercept\n",
    "    \n",
    "    # preparing for thresholding\n",
    "    def _soft_thresholding_operator(self, x):\n",
    "        alpha=self.lambda_ / self.rho\n",
    "        y = np.zeros(x.shape)\n",
    "        \n",
    "        y[x>alpha]= x[x>alpha] - alpha\n",
    "        y[x<alpha]= x[x<alpha] + alpha\n",
    "        y[abs(x)<=alpha]= 0.0\n",
    "        return y\n",
    "    \n",
    "    # fitting to model\n",
    "    def fit(self, X, y):\n",
    "        samples=X.shape[0]\n",
    "        columns=X.shape[1]\n",
    "        \n",
    "        # initial values\n",
    "        beta=np.dot(X.T, y)\n",
    "        theta=beta.copy()\n",
    "        mu=np.zeros(len(beta))\n",
    "        \n",
    "        #　calculating for Regularization\n",
    "        for iteration in range(self.max_repeat):\n",
    "            beta=np.dot(np.linalg.inv(np.dot(X.T, X) + self.rho*np.identity(columns)), np.dot(X.T, y) + self.rho*theta - mu)\n",
    "            theta=self._soft_thresholding_operator(beta + mu/self.rho)\n",
    "            mu+=self.rho*(beta - theta)\n",
    "            \n",
    "        # making coefficients and intercept\n",
    "        self.coef_=beta\n",
    "        if self.fit_intercept:\n",
    "            self.intercept_=np.sum(y - np.dot(X[:,1:], np.zeros(columns)[1:]))/samples\n",
    "        \n",
    "        return self\n",
    "        \n",
    "    # calculating for prediction\n",
    "    def predict(self, X):\n",
    "        y=np.dot(X, self.coef_) + self.intercept_\n",
    "        return y"
   ]
  },
  {
   "cell_type": "code",
   "execution_count": 6,
   "metadata": {},
   "outputs": [],
   "source": [
    "# preparing for model fitting and prediction\n",
    "from sklearn.metrics import mean_squared_error\n",
    "from sklearn.metrics import r2_score\n",
    "from sklearn.model_selection import train_test_split\n",
    "X_train, X_test, Y_train, Y_test = train_test_split(boston_X, boston_y, train_size = 0.7, test_size = 0.3, random_state = 0)"
   ]
  },
  {
   "cell_type": "code",
   "execution_count": 7,
   "metadata": {},
   "outputs": [],
   "source": [
    "# format setting\n",
    "np.set_printoptions(formatter={\"float\": \"{: 0.10f}\".format})\n",
    "pd.options.display.float_format = \"{: 0.10f}\".format"
   ]
  },
  {
   "cell_type": "code",
   "execution_count": 8,
   "metadata": {},
   "outputs": [
    {
     "data": {
      "text/plain": [
       "admm_for_lasso(fit_intercept=True, lambda_=1.0, max_repeat=1000, rho=1.0)"
      ]
     },
     "execution_count": 8,
     "metadata": {},
     "output_type": "execute_result"
    }
   ],
   "source": [
    "#creating model by ADMM algorism\n",
    "model1=admm_for_lasso(lambda_=1.0,rho=1.0,max_repeat=1000, fit_intercept=True)\n",
    "model1.fit(X_train, Y_train)"
   ]
  },
  {
   "cell_type": "code",
   "execution_count": 9,
   "metadata": {},
   "outputs": [
    {
     "name": "stdout",
     "output_type": "stream",
     "text": [
      "Lasso by ADMM\n",
      "intercept: 22.7454802259887\n",
      "coefficients: \n",
      "[-1.5974531040  3.1707736646  0.6670752228 -0.0488921855  0.3247552570\n",
      "  3.0921171694  0.3806431231 -4.4033221785  4.0309235353 -6.1687487910\n",
      " -0.3717920293  1.5710610368 -4.4272968290]\n"
     ]
    }
   ],
   "source": [
    "# intercept & coefficients of ADMM model\n",
    "print(\"Lasso by ADMM\")\n",
    "print(\"intercept: \" + str(model1.intercept_))\n",
    "print(\"coefficients: \")\n",
    "print(model1.coef_)"
   ]
  },
  {
   "cell_type": "code",
   "execution_count": 10,
   "metadata": {},
   "outputs": [
    {
     "name": "stdout",
     "output_type": "stream",
     "text": [
      "mean_squared_error train data:  27.80034281100373\n",
      "mean_squared_error test data:  32.68180187883896\n",
      "r^2 train data:  0.6720285214536159\n",
      "r^2 test data:  0.6074988892965523\n"
     ]
    }
   ],
   "source": [
    "#prediction by ADMM\n",
    "y_pred1=model1.predict(X_test)\n",
    "y_train_pred1 = model1.predict(X_train)\n",
    "#evaluation scores\n",
    "print(\"mean_squared_error train data: \", mean_squared_error(Y_train, y_train_pred1))\n",
    "print(\"mean_squared_error test data: \", mean_squared_error(Y_test, y_pred1))\n",
    "print(\"r^2 train data: \", r2_score(Y_train, y_train_pred1))\n",
    "print(\"r^2 test data: \", r2_score(Y_test, y_pred1))"
   ]
  },
  {
   "cell_type": "code",
   "execution_count": 11,
   "metadata": {},
   "outputs": [
    {
     "name": "stdout",
     "output_type": "stream",
     "text": [
      "Lasso by sickit-learn (coordinate descent)\n",
      "intercept: 22.5620746115923\n",
      "coefficients: \n",
      "[-0.0000000000  0.0000000000 -0.0000000000  0.0000000000 -0.0000000000\n",
      "  2.6760263963 -0.0000000000 -0.0000000000 -0.0000000000 -0.1459356743\n",
      " -1.7684446460  0.0000000000 -3.4173771634]\n",
      "mean_squared_error train data:  26.041375932412734\n",
      "mean_squared_error test data:  33.40658328282799\n",
      "r^2 train data:  0.6927797392284292\n",
      "r^2 test data:  0.5987944271883265\n"
     ]
    }
   ],
   "source": [
    "# by linear_model.Lasso in sklearn\n",
    "from sklearn import linear_model\n",
    "model2 = linear_model.Lasso(alpha=1.0, max_iter=1000)\n",
    "model2.fit(X_train, Y_train)\n",
    "\n",
    "print(\"Lasso by sickit-learn (coordinate descent)\")\n",
    "print(\"intercept: \" + str(model2.intercept_))\n",
    "print(\"coefficients: \")\n",
    "print(model2.coef_)\n",
    "\n",
    "y_pred2=model2.predict(X_test)\n",
    "y_train_pred2 = model2.predict(X_train)\n",
    "\n",
    "print(\"mean_squared_error train data: \", mean_squared_error(Y_train, y_train_pred2))\n",
    "print(\"mean_squared_error test data: \", mean_squared_error(Y_test, y_pred2))\n",
    "print(\"r^2 train data: \", r2_score(Y_train, y_train_pred2))\n",
    "print(\"r^2 test data: \", r2_score(Y_test, y_pred2))"
   ]
  },
  {
   "cell_type": "code",
   "execution_count": 12,
   "metadata": {},
   "outputs": [
    {
     "data": {
      "text/html": [
       "<div>\n",
       "<style scoped>\n",
       "    .dataframe tbody tr th:only-of-type {\n",
       "        vertical-align: middle;\n",
       "    }\n",
       "\n",
       "    .dataframe tbody tr th {\n",
       "        vertical-align: top;\n",
       "    }\n",
       "\n",
       "    .dataframe thead th {\n",
       "        text-align: right;\n",
       "    }\n",
       "</style>\n",
       "<table border=\"1\" class=\"dataframe\">\n",
       "  <thead>\n",
       "    <tr style=\"text-align: right;\">\n",
       "      <th></th>\n",
       "      <th>by ADMM algorism</th>\n",
       "      <th>by sickit-learn (coordinate descent)</th>\n",
       "    </tr>\n",
       "  </thead>\n",
       "  <tbody>\n",
       "    <tr>\n",
       "      <th>CRIM</th>\n",
       "      <td>-1.5974531040</td>\n",
       "      <td>-0.0000000000</td>\n",
       "    </tr>\n",
       "    <tr>\n",
       "      <th>ZN</th>\n",
       "      <td>3.1707736646</td>\n",
       "      <td>0.0000000000</td>\n",
       "    </tr>\n",
       "    <tr>\n",
       "      <th>INDUS</th>\n",
       "      <td>0.6670752228</td>\n",
       "      <td>-0.0000000000</td>\n",
       "    </tr>\n",
       "    <tr>\n",
       "      <th>CHAS</th>\n",
       "      <td>-0.0488921855</td>\n",
       "      <td>0.0000000000</td>\n",
       "    </tr>\n",
       "    <tr>\n",
       "      <th>NOX</th>\n",
       "      <td>0.3247552570</td>\n",
       "      <td>-0.0000000000</td>\n",
       "    </tr>\n",
       "    <tr>\n",
       "      <th>RM</th>\n",
       "      <td>3.0921171694</td>\n",
       "      <td>2.6760263963</td>\n",
       "    </tr>\n",
       "    <tr>\n",
       "      <th>AGE</th>\n",
       "      <td>0.3806431231</td>\n",
       "      <td>-0.0000000000</td>\n",
       "    </tr>\n",
       "    <tr>\n",
       "      <th>DIS</th>\n",
       "      <td>-4.4033221785</td>\n",
       "      <td>-0.0000000000</td>\n",
       "    </tr>\n",
       "    <tr>\n",
       "      <th>RAD</th>\n",
       "      <td>4.0309235353</td>\n",
       "      <td>-0.0000000000</td>\n",
       "    </tr>\n",
       "    <tr>\n",
       "      <th>TAX</th>\n",
       "      <td>-6.1687487910</td>\n",
       "      <td>-0.1459356743</td>\n",
       "    </tr>\n",
       "    <tr>\n",
       "      <th>PTRATIO</th>\n",
       "      <td>-0.3717920293</td>\n",
       "      <td>-1.7684446460</td>\n",
       "    </tr>\n",
       "    <tr>\n",
       "      <th>B</th>\n",
       "      <td>1.5710610368</td>\n",
       "      <td>0.0000000000</td>\n",
       "    </tr>\n",
       "    <tr>\n",
       "      <th>LSTAT</th>\n",
       "      <td>-4.4272968290</td>\n",
       "      <td>-3.4173771634</td>\n",
       "    </tr>\n",
       "  </tbody>\n",
       "</table>\n",
       "</div>"
      ],
      "text/plain": [
       "         by ADMM algorism  by sickit-learn (coordinate descent)\n",
       "CRIM        -1.5974531040                         -0.0000000000\n",
       "ZN           3.1707736646                          0.0000000000\n",
       "INDUS        0.6670752228                         -0.0000000000\n",
       "CHAS        -0.0488921855                          0.0000000000\n",
       "NOX          0.3247552570                         -0.0000000000\n",
       "RM           3.0921171694                          2.6760263963\n",
       "AGE          0.3806431231                         -0.0000000000\n",
       "DIS         -4.4033221785                         -0.0000000000\n",
       "RAD          4.0309235353                         -0.0000000000\n",
       "TAX         -6.1687487910                         -0.1459356743\n",
       "PTRATIO     -0.3717920293                         -1.7684446460\n",
       "B            1.5710610368                          0.0000000000\n",
       "LSTAT       -4.4272968290                         -3.4173771634"
      ]
     },
     "execution_count": 12,
     "metadata": {},
     "output_type": "execute_result"
    }
   ],
   "source": [
    "# coefficients comparison\n",
    "df_Lasso=pd.DataFrame(index=boston.feature_names)\n",
    "df_Lasso[\"by ADMM algorism\"]=model1.coef_\n",
    "df_Lasso[\"by sickit-learn (coordinate descent)\"]=model2.coef_\n",
    "df_Lasso"
   ]
  },
  {
   "cell_type": "code",
   "execution_count": 13,
   "metadata": {},
   "outputs": [
    {
     "data": {
      "text/html": [
       "<div>\n",
       "<style scoped>\n",
       "    .dataframe tbody tr th:only-of-type {\n",
       "        vertical-align: middle;\n",
       "    }\n",
       "\n",
       "    .dataframe tbody tr th {\n",
       "        vertical-align: top;\n",
       "    }\n",
       "\n",
       "    .dataframe thead tr th {\n",
       "        text-align: left;\n",
       "    }\n",
       "\n",
       "    .dataframe thead tr:last-of-type th {\n",
       "        text-align: right;\n",
       "    }\n",
       "</style>\n",
       "<table border=\"1\" class=\"dataframe\">\n",
       "  <thead>\n",
       "    <tr>\n",
       "      <th></th>\n",
       "      <th colspan=\"2\" halign=\"left\">mean_squared_error</th>\n",
       "      <th colspan=\"2\" halign=\"left\">r^2</th>\n",
       "    </tr>\n",
       "    <tr>\n",
       "      <th>prediction</th>\n",
       "      <th>by ADMM algorism</th>\n",
       "      <th>by sklearn (coordinate descent)</th>\n",
       "      <th>by ADMM algorism</th>\n",
       "      <th>by sklearn (coordinate descent)</th>\n",
       "    </tr>\n",
       "    <tr>\n",
       "      <th>data</th>\n",
       "      <th></th>\n",
       "      <th></th>\n",
       "      <th></th>\n",
       "      <th></th>\n",
       "    </tr>\n",
       "  </thead>\n",
       "  <tbody>\n",
       "    <tr>\n",
       "      <th>test</th>\n",
       "      <td>32.6818018788</td>\n",
       "      <td>33.4065832828</td>\n",
       "      <td>0.6074988893</td>\n",
       "      <td>0.5987944272</td>\n",
       "    </tr>\n",
       "    <tr>\n",
       "      <th>train</th>\n",
       "      <td>27.8003428110</td>\n",
       "      <td>26.0413759324</td>\n",
       "      <td>0.6720285215</td>\n",
       "      <td>0.6927797392</td>\n",
       "    </tr>\n",
       "  </tbody>\n",
       "</table>\n",
       "</div>"
      ],
      "text/plain": [
       "           mean_squared_error                                  \\\n",
       "prediction   by ADMM algorism by sklearn (coordinate descent)   \n",
       "data                                                            \n",
       "test            32.6818018788                   33.4065832828   \n",
       "train           27.8003428110                   26.0413759324   \n",
       "\n",
       "                        r^2                                  \n",
       "prediction by ADMM algorism by sklearn (coordinate descent)  \n",
       "data                                                         \n",
       "test           0.6074988893                    0.5987944272  \n",
       "train          0.6720285215                    0.6927797392  "
      ]
     },
     "execution_count": 13,
     "metadata": {},
     "output_type": "execute_result"
    }
   ],
   "source": [
    "# evaluation scores comparison\n",
    "df_score=pd.DataFrame()\n",
    "df_score[\"data\"]=[\"train\",\"test\",\"train\",\"test\"]\n",
    "df_score[\"mean_squared_error\"]=[mean_squared_error(Y_train, y_train_pred1),mean_squared_error(Y_test, y_pred1), mean_squared_error(Y_train, y_train_pred2),mean_squared_error(Y_test, y_pred2)]\n",
    "df_score[\"r^2\"]=[r2_score(Y_train, y_train_pred1),r2_score(Y_test, y_pred1), r2_score(Y_train, y_train_pred2),r2_score(Y_test, y_pred2)]\n",
    "df_score[\"prediction\"]=[\"by ADMM algorism\",\"by ADMM algorism\", \"by sklearn (coordinate descent)\",\"by sklearn (coordinate descent)\"]\n",
    "df_score.pivot_table(index=\"data\",columns=\"prediction\")"
   ]
  },
  {
   "cell_type": "code",
   "execution_count": null,
   "metadata": {},
   "outputs": [],
   "source": []
  }
 ],
 "metadata": {
  "kernelspec": {
   "display_name": "Python 3",
   "language": "python",
   "name": "python3"
  },
  "language_info": {
   "codemirror_mode": {
    "name": "ipython",
    "version": 3
   },
   "file_extension": ".py",
   "mimetype": "text/x-python",
   "name": "python",
   "nbconvert_exporter": "python",
   "pygments_lexer": "ipython3",
   "version": "3.7.1"
  }
 },
 "nbformat": 4,
 "nbformat_minor": 2
}
