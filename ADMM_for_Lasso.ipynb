{
 "cells": [
  {
   "cell_type": "code",
   "execution_count": 1,
   "metadata": {},
   "outputs": [],
   "source": [
    "import numpy as np\n",
    "import pandas as pd\n",
    "from sklearn.datasets import load_boston\n",
    "from sklearn.base import BaseEstimator, RegressorMixin"
   ]
  },
  {
   "cell_type": "code",
   "execution_count": 2,
   "metadata": {},
   "outputs": [
    {
     "name": "stdout",
     "output_type": "stream",
     "text": [
      "(506, 13)\n"
     ]
    }
   ],
   "source": [
    "# data loading\n",
    "boston=load_boston()\n",
    "print(boston.data.shape)"
   ]
  },
  {
   "cell_type": "code",
   "execution_count": 3,
   "metadata": {},
   "outputs": [
    {
     "name": "stdout",
     "output_type": "stream",
     "text": [
      "['CRIM' 'ZN' 'INDUS' 'CHAS' 'NOX' 'RM' 'AGE' 'DIS' 'RAD' 'TAX' 'PTRATIO'\n",
      " 'B' 'LSTAT']\n"
     ]
    }
   ],
   "source": [
    "# checking feature\n",
    "print(boston.feature_names)"
   ]
  },
  {
   "cell_type": "code",
   "execution_count": 4,
   "metadata": {},
   "outputs": [],
   "source": [
    "# setting X and y\n",
    "mean=np.mean(boston.data, axis=0)\n",
    "std=np.std(boston.data, axis=0)\n",
    "boston_X=(boston.data - mean)/std\n",
    "boston_y=boston.target"
   ]
  },
  {
   "cell_type": "code",
   "execution_count": 5,
   "metadata": {},
   "outputs": [],
   "source": [
    "#making algorism\n",
    "class admm_for_lasso(BaseEstimator, RegressorMixin):\n",
    "    \n",
    "    #initial setting\n",
    "    def __init__(self, lambda_=1.0, rho=1.0, max_repeat=1000, fit_intercept=True):\n",
    "        self.lambda_=lambda_ # regularized coefficient\n",
    "        self.rho=rho # penalty coefficient\n",
    "        self.max_repeat=max_repeat # the number of repeats\n",
    "        self.fit_intercept=fit_intercept #whether calculating the intercept or not\n",
    "        self.coef_=None # variable for coefficients\n",
    "        self.intercept_=0.0 # variable for intercept\n",
    "    \n",
    "    # preparing for thresholding\n",
    "    def _soft_thresholding_operator(self, x):\n",
    "        alpha=self.lambda_ / self.rho\n",
    "        y = np.zeros(x.shape)\n",
    "        \n",
    "        y[x>=alpha]= x[x>=alpha] - alpha\n",
    "        y[x<=alpha]= x[x<=alpha] + alpha\n",
    "        y[abs(x)<=alpha]= 0.0\n",
    "        \n",
    "        return y\n",
    "    \n",
    "    # fitting to model\n",
    "    def fit(self, feature, target):\n",
    "        samples=feature.shape[0]\n",
    "        columns=feature.shape[1]\n",
    "        \n",
    "        # initial values\n",
    "        x=np.dot(feature.T, target)/samples\n",
    "        z=x.copy()\n",
    "        y=np.zeros(len(x))\n",
    "        \n",
    "        inv_matrix = np.linalg.inv(np.dot(feature.T, feature)/samples + self.rho*np.identity(columns))\n",
    "        \n",
    "        #　calculating for Regularization\n",
    "        for iteration in range(self.max_repeat):\n",
    "            x=np.dot(inv_matrix, np.dot(feature.T, target)/samples + self.rho*z - y)\n",
    "            z=self._soft_thresholding_operator(x + y/self.rho)\n",
    "            y+=self.rho*(x - z)\n",
    "            \n",
    "        # making coefficients and intercept\n",
    "        self.coef_=x\n",
    "        if self.fit_intercept:\n",
    "            self.intercept_=np.sum(target - np.dot(feature[:,1:], np.zeros(columns)[1:]))/samples\n",
    "        \n",
    "        return self\n",
    "        \n",
    "    # calculating for prediction\n",
    "    def predict(self, X):\n",
    "        y=np.dot(X, self.coef_) + self.intercept_\n",
    "        return y"
   ]
  },
  {
   "cell_type": "code",
   "execution_count": 6,
   "metadata": {},
   "outputs": [],
   "source": [
    "# format setting\n",
    "np.set_printoptions(formatter={'float': '{: 0.10f}'.format})\n",
    "pd.options.display.float_format = '{: 0.10f}'.format"
   ]
  },
  {
   "cell_type": "code",
   "execution_count": 7,
   "metadata": {},
   "outputs": [
    {
     "data": {
      "text/plain": [
       "admm_for_lasso(fit_intercept=True, lambda_=1.0, max_repeat=1000, rho=1.0)"
      ]
     },
     "execution_count": 7,
     "metadata": {},
     "output_type": "execute_result"
    }
   ],
   "source": [
    "#creating model with ADMM algorism\n",
    "model1=admm_for_lasso(lambda_=1.0,rho=1.0,max_repeat=1000, fit_intercept=True)\n",
    "model1.fit(boston_X, boston_y)"
   ]
  },
  {
   "cell_type": "code",
   "execution_count": 8,
   "metadata": {},
   "outputs": [
    {
     "name": "stdout",
     "output_type": "stream",
     "text": [
      "Lasso by ADMM\n",
      "intercept: 22.532806324110677\n",
      "coefficients: \n",
      "[-0.0000000000  0.0000000000 -0.0000000000  0.0000000000  0.0000000000\n",
      "  2.7131072809 -0.0000000000  0.0000000000 -0.0000000000  0.0000000000\n",
      " -1.3434986189  0.1807938799 -3.5436116588]\n"
     ]
    }
   ],
   "source": [
    "# results of ADMM model\n",
    "print(\"Lasso by ADMM\")\n",
    "print(\"intercept: \" + str(model1.intercept_))\n",
    "print(\"coefficients: \")\n",
    "print(model1.coef_)"
   ]
  },
  {
   "cell_type": "code",
   "execution_count": 9,
   "metadata": {},
   "outputs": [
    {
     "name": "stdout",
     "output_type": "stream",
     "text": [
      "Lasso by sickit-learn (coordinate descent)\n",
      "intercept: 22.53280632411069\n",
      "coefficients: \n",
      "[-0.0000000000  0.0000000000 -0.0000000000  0.0000000000 -0.0000000000\n",
      "  2.7133552962 -0.0000000000 -0.0000000000 -0.0000000000 -0.0000000000\n",
      " -1.3435487980  0.1809566444 -3.5433810699]\n"
     ]
    }
   ],
   "source": [
    "#  comparison with linear_model in sklearn\n",
    "from sklearn import linear_model\n",
    "\n",
    "model2 = linear_model.Lasso(alpha=1.0, max_iter=1000)\n",
    "model2.fit(boston_X, boston_y)\n",
    "print(\"Lasso by sickit-learn (coordinate descent)\")\n",
    "print(\"intercept: \" + str(model2.intercept_))\n",
    "print(\"coefficients: \")\n",
    "print(model2.coef_)"
   ]
  },
  {
   "cell_type": "code",
   "execution_count": 10,
   "metadata": {},
   "outputs": [
    {
     "name": "stdout",
     "output_type": "stream",
     "text": [
      "coefficients for housing price in Boston\n",
      "          by ADMM algorism  by sklearn (coordinate descent)\n",
      "features                                                   \n",
      "CRIM         -0.0000000000                    -0.0000000000\n",
      "ZN            0.0000000000                     0.0000000000\n",
      "INDUS        -0.0000000000                    -0.0000000000\n",
      "CHAS          0.0000000000                     0.0000000000\n",
      "NOX           0.0000000000                    -0.0000000000\n",
      "RM            2.7131072809                     2.7133552962\n",
      "AGE          -0.0000000000                    -0.0000000000\n",
      "DIS           0.0000000000                    -0.0000000000\n",
      "RAD          -0.0000000000                    -0.0000000000\n",
      "TAX           0.0000000000                    -0.0000000000\n",
      "PTRATIO      -1.3434986189                    -1.3435487980\n",
      "B             0.1807938799                     0.1809566444\n",
      "LSTAT        -3.5436116588                    -3.5433810699\n"
     ]
    }
   ],
   "source": [
    "# coefficients comparison\n",
    "df_Lasso=pd.DataFrame()\n",
    "df_Lasso[\"features\"]=boston.feature_names\n",
    "df_Lasso[\"by ADMM algorism\"]=model1.coef_\n",
    "df_Lasso[\"by sklearn (coordinate descent)\"]=model2.coef_\n",
    "df_Lasso=df_Lasso.set_index(\"features\")\n",
    "print(\"coefficients for housing price in Boston\")\n",
    "print(df_Lasso)"
   ]
  },
  {
   "cell_type": "code",
   "execution_count": null,
   "metadata": {},
   "outputs": [],
   "source": []
  }
 ],
 "metadata": {
  "kernelspec": {
   "display_name": "Python 3",
   "language": "python",
   "name": "python3"
  },
  "language_info": {
   "codemirror_mode": {
    "name": "ipython",
    "version": 3
   },
   "file_extension": ".py",
   "mimetype": "text/x-python",
   "name": "python",
   "nbconvert_exporter": "python",
   "pygments_lexer": "ipython3",
   "version": "3.7.1"
  }
 },
 "nbformat": 4,
 "nbformat_minor": 2
}
